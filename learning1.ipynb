{
 "cells": [
  {
   "cell_type": "markdown",
   "id": "badb0929",
   "metadata": {},
   "source": [
    "BASIC NUMPY:\n",
    "---------------------\n",
    "(This is a recreation following this: https://sebastianraschka.com/blog/2020/numpy-intro.html)"
   ]
  },
  {
   "cell_type": "code",
   "execution_count": 2,
   "id": "1156c4c9",
   "metadata": {},
   "outputs": [],
   "source": [
    "import numpy as np"
   ]
  },
  {
   "cell_type": "code",
   "execution_count": 4,
   "id": "6b0d545d",
   "metadata": {},
   "outputs": [
    {
     "name": "stdout",
     "output_type": "stream",
     "text": [
      "[0 1 2 3 4 5]\n"
     ]
    }
   ],
   "source": [
    "print(np.arange(6))"
   ]
  },
  {
   "cell_type": "code",
   "execution_count": 3,
   "id": "492b374b",
   "metadata": {},
   "outputs": [],
   "source": [
    "def python_dot(x, w):\n",
    "    z = 0.\n",
    "    for i in range(len(x)):\n",
    "        z+= x[i]*w[i]\n",
    "    return z"
   ]
  },
  {
   "cell_type": "code",
   "execution_count": 6,
   "id": "d30c864d",
   "metadata": {},
   "outputs": [],
   "source": [
    "array1 = [1., 2., 5.]\n",
    "array2 = [3., 1., 2.]"
   ]
  },
  {
   "cell_type": "code",
   "execution_count": 7,
   "id": "262b8e3d",
   "metadata": {},
   "outputs": [
    {
     "name": "stdout",
     "output_type": "stream",
     "text": [
      "15.0\n"
     ]
    }
   ],
   "source": [
    "print(python_dot(array1, array2))"
   ]
  },
  {
   "cell_type": "markdown",
   "id": "d3d9b38d",
   "metadata": {},
   "source": [
    "Now, let us time a large array:"
   ]
  },
  {
   "cell_type": "code",
   "execution_count": 8,
   "id": "7586c3e4",
   "metadata": {},
   "outputs": [],
   "source": [
    "large1 = list(range(1000))\n",
    "large2 = list(range(1000))"
   ]
  },
  {
   "cell_type": "code",
   "execution_count": 9,
   "id": "b49c3e76",
   "metadata": {},
   "outputs": [
    {
     "name": "stdout",
     "output_type": "stream",
     "text": [
      "59.5 µs ± 1.6 µs per loop (mean ± std. dev. of 7 runs, 10,000 loops each)\n"
     ]
    }
   ],
   "source": [
    "%timeit python_dot(large1, large2)"
   ]
  },
  {
   "cell_type": "markdown",
   "id": "dc918072",
   "metadata": {},
   "source": [
    "* Now, if we use np arrays:*"
   ]
  },
  {
   "cell_type": "code",
   "execution_count": 4,
   "id": "f5b3a3fb",
   "metadata": {},
   "outputs": [],
   "source": [
    "nplarge1 = np.arange(1000)\n",
    "nplarge2 = np.arange(1000)"
   ]
  },
  {
   "cell_type": "code",
   "execution_count": 5,
   "id": "55911ab0",
   "metadata": {},
   "outputs": [
    {
     "name": "stdout",
     "output_type": "stream",
     "text": [
      "1.36 µs ± 45.6 ns per loop (mean ± std. dev. of 7 runs, 1,000,000 loops each)\n"
     ]
    }
   ],
   "source": [
    "%timeit nplarge1.dot(nplarge2)"
   ]
  },
  {
   "cell_type": "markdown",
   "id": "929b0443",
   "metadata": {},
   "source": [
    "We observe 59.5-->1.36. nparrays are like C arrays, contiguous and homogenous, Helps in cache locality"
   ]
  },
  {
   "cell_type": "markdown",
   "id": "318fc197",
   "metadata": {},
   "source": [
    "________________________________________________________________________________________________________"
   ]
  },
  {
   "cell_type": "markdown",
   "id": "9b3dd3c6",
   "metadata": {},
   "source": [
    "Now, lets look at multidimensional arrays:"
   ]
  },
  {
   "cell_type": "code",
   "execution_count": 6,
   "id": "1339cdd2",
   "metadata": {},
   "outputs": [],
   "source": [
    "pyarray = [1., 2., 3.]"
   ]
  },
  {
   "cell_type": "code",
   "execution_count": 7,
   "id": "ceb0d218",
   "metadata": {},
   "outputs": [],
   "source": [
    "numpyarray = np.array(pyarray)"
   ]
  },
  {
   "cell_type": "code",
   "execution_count": 8,
   "id": "1006e0c4",
   "metadata": {},
   "outputs": [
    {
     "name": "stdout",
     "output_type": "stream",
     "text": [
      "<class 'numpy.ndarray'>\n"
     ]
    }
   ],
   "source": [
    "print(type(numpyarray))"
   ]
  },
  {
   "cell_type": "code",
   "execution_count": 9,
   "id": "7085962a",
   "metadata": {},
   "outputs": [
    {
     "name": "stdout",
     "output_type": "stream",
     "text": [
      "[1. 2. 3.]\n"
     ]
    }
   ],
   "source": [
    "print(numpyarray)"
   ]
  },
  {
   "cell_type": "code",
   "execution_count": 15,
   "id": "5bcfe3cb",
   "metadata": {},
   "outputs": [],
   "source": [
    "pyListOList = [ [1,2,3],\n",
    "                [4,5,6]]"
   ]
  },
  {
   "cell_type": "code",
   "execution_count": 16,
   "id": "ef44754f",
   "metadata": {},
   "outputs": [],
   "source": [
    "mat = np.array(pyListOList)"
   ]
  },
  {
   "cell_type": "code",
   "execution_count": 17,
   "id": "577b4102",
   "metadata": {},
   "outputs": [],
   "source": [
    "mat = np.array(pyListOList, dtype=int)"
   ]
  },
  {
   "cell_type": "code",
   "execution_count": 18,
   "id": "3f66bba3",
   "metadata": {},
   "outputs": [
    {
     "data": {
      "text/plain": [
       "numpy.ndarray"
      ]
     },
     "execution_count": 18,
     "metadata": {},
     "output_type": "execute_result"
    }
   ],
   "source": [
    "type(mat)"
   ]
  },
  {
   "cell_type": "code",
   "execution_count": 19,
   "id": "62b9c660",
   "metadata": {},
   "outputs": [
    {
     "name": "stdout",
     "output_type": "stream",
     "text": [
      "int64\n"
     ]
    }
   ],
   "source": [
    "print(mat.dtype)"
   ]
  },
  {
   "cell_type": "code",
   "execution_count": 21,
   "id": "faab2608",
   "metadata": {},
   "outputs": [
    {
     "name": "stdout",
     "output_type": "stream",
     "text": [
      "int32\n"
     ]
    },
    {
     "data": {
      "text/plain": [
       "numpy.ndarray"
      ]
     },
     "execution_count": 21,
     "metadata": {},
     "output_type": "execute_result"
    }
   ],
   "source": [
    "mat_int32 = mat.astype(np.int32)\n",
    "print(mat_int32.dtype)\n",
    "type(mat_int32)"
   ]
  },
  {
   "cell_type": "markdown",
   "id": "936ebd40",
   "metadata": {},
   "source": [
    "Like above, we can convert dtype"
   ]
  },
  {
   "cell_type": "markdown",
   "id": "30803098",
   "metadata": {},
   "source": [
    "In Python, all variables are like references in C++. So, if you want just the value.."
   ]
  },
  {
   "cell_type": "code",
   "execution_count": 24,
   "id": "48be2126",
   "metadata": {},
   "outputs": [
    {
     "name": "stdout",
     "output_type": "stream",
     "text": [
      "[[3 2 3]\n",
      " [4 5 6]]\n",
      "[[5 2 3]\n",
      " [4 5 6]]\n",
      "[[5 2 3]\n",
      " [4 5 6]]\n"
     ]
    }
   ],
   "source": [
    "print(mat)\n",
    "mat2 = mat\n",
    "mat2[0][0] = 5\n",
    "print(mat)\n",
    "mat_copy = mat.copy()\n",
    "mat_copy[0][0] = 4\n",
    "print(mat)"
   ]
  },
  {
   "cell_type": "markdown",
   "id": "807bed84",
   "metadata": {},
   "source": [
    "We have to use ndarry.copy()"
   ]
  },
  {
   "cell_type": "markdown",
   "id": "03cb586c",
   "metadata": {},
   "source": [
    "nparrays have ndim attribute:"
   ]
  },
  {
   "cell_type": "code",
   "execution_count": 25,
   "id": "d1489039",
   "metadata": {},
   "outputs": [
    {
     "data": {
      "text/plain": [
       "2"
      ]
     },
     "execution_count": 25,
     "metadata": {},
     "output_type": "execute_result"
    }
   ],
   "source": [
    "mat.ndim"
   ]
  },
  {
   "cell_type": "markdown",
   "id": "379bef24",
   "metadata": {},
   "source": [
    "The Shape Attribute: returns nxm as (n, m) {returns a tuple(in case of ndim, so tuple)}"
   ]
  },
  {
   "cell_type": "code",
   "execution_count": 26,
   "id": "3c4de2eb",
   "metadata": {},
   "outputs": [
    {
     "name": "stdout",
     "output_type": "stream",
     "text": [
      "(2, 3)\n"
     ]
    }
   ],
   "source": [
    "print(mat.shape)"
   ]
  },
  {
   "cell_type": "code",
   "execution_count": 27,
   "id": "5e635525",
   "metadata": {},
   "outputs": [
    {
     "name": "stdout",
     "output_type": "stream",
     "text": [
      "2\n"
     ]
    }
   ],
   "source": [
    "print(len(mat.shape))"
   ]
  },
  {
   "cell_type": "code",
   "execution_count": 30,
   "id": "d948a0de",
   "metadata": {},
   "outputs": [],
   "source": [
    "assert(len(mat.shape)==mat.ndim)"
   ]
  },
  {
   "cell_type": "markdown",
   "id": "d52d0bfd",
   "metadata": {},
   "source": [
    "So, mat.ndim = the length of the shape tuple\n",
    "_________________________________________________________________________________\n"
   ]
  },
  {
   "cell_type": "markdown",
   "id": "e4613004",
   "metadata": {},
   "source": [
    "NUMPY ARRAY CONSTRUCTION:\n",
    "-------------------------\n",
    "Lets look at some array construction routines"
   ]
  },
  {
   "cell_type": "markdown",
   "id": "df98451d",
   "metadata": {},
   "source": [
    "1. np.ones(shape, dtype)"
   ]
  },
  {
   "cell_type": "code",
   "execution_count": 34,
   "id": "cf2c3dc5",
   "metadata": {},
   "outputs": [
    {
     "name": "stdout",
     "output_type": "stream",
     "text": [
      "Type:<class 'numpy.ndarray'>\n",
      "dtype:float64\n",
      "The ndarray:\n",
      "[[1. 1. 1. 1.]\n",
      " [1. 1. 1. 1.]]\n"
     ]
    }
   ],
   "source": [
    "ones1 = np.ones((2, 4), dtype=float)\n",
    "print(\"Type:{0}\".format(type(ones1)))\n",
    "print(\"dtype:{0}\".format(ones1.dtype))\n",
    "print(\"The ndarray:\")\n",
    "print(ones1)"
   ]
  },
  {
   "cell_type": "code",
   "execution_count": 36,
   "id": "066cc732",
   "metadata": {},
   "outputs": [
    {
     "name": "stdout",
     "output_type": "stream",
     "text": [
      "[1. 1. 1.]\n"
     ]
    }
   ],
   "source": [
    "print(np.ones(3))"
   ]
  },
  {
   "cell_type": "markdown",
   "id": "ce4310d7",
   "metadata": {},
   "source": [
    "2. np.zeros()"
   ]
  },
  {
   "cell_type": "code",
   "execution_count": 37,
   "id": "0bdb9bb3",
   "metadata": {},
   "outputs": [
    {
     "name": "stdout",
     "output_type": "stream",
     "text": [
      "[[0. 0. 0.]\n",
      " [0. 0. 0.]\n",
      " [0. 0. 0.]]\n"
     ]
    }
   ],
   "source": [
    "zeros = np.zeros((3,3))\n",
    "print(zeros)"
   ]
  },
  {
   "cell_type": "code",
   "execution_count": 38,
   "id": "980475d4",
   "metadata": {},
   "outputs": [
    {
     "name": "stdout",
     "output_type": "stream",
     "text": [
      "[[0 0 0]\n",
      " [0 0 0]\n",
      " [0 0 0]]\n"
     ]
    }
   ],
   "source": [
    "print(np.zeros((3,3), dtype=int))"
   ]
  },
  {
   "cell_type": "markdown",
   "id": "6d93bf32",
   "metadata": {},
   "source": [
    "3. Addition of a scalar to a ndarray:"
   ]
  },
  {
   "cell_type": "code",
   "execution_count": 42,
   "id": "5fb92dfc",
   "metadata": {},
   "outputs": [
    {
     "name": "stdout",
     "output_type": "stream",
     "text": [
      "[[23. 23. 23.]\n",
      " [23. 23. 23.]\n",
      " [23. 23. 23.]]\n",
      "[[23 23 23]\n",
      " [23 23 23]\n",
      " [23 23 23]]\n"
     ]
    }
   ],
   "source": [
    "print(np.zeros((3,3))+23)\n",
    "print((np.zeros((3,3))+23).astype(int))"
   ]
  },
  {
   "cell_type": "markdown",
   "id": "c544f432",
   "metadata": {},
   "source": [
    "4. Diagonal matrix:"
   ]
  },
  {
   "cell_type": "code",
   "execution_count": 43,
   "id": "e7b4d5d2",
   "metadata": {},
   "outputs": [
    {
     "name": "stdout",
     "output_type": "stream",
     "text": [
      "[[1 0 0]\n",
      " [0 2 0]\n",
      " [0 0 3]]\n"
     ]
    }
   ],
   "source": [
    "print(np.diag((1, 2, 3)))"
   ]
  },
  {
   "cell_type": "markdown",
   "id": "f15ddead",
   "metadata": {},
   "source": [
    "5. arange fn: (similar to range) gives a half open interval"
   ]
  },
  {
   "cell_type": "code",
   "execution_count": 45,
   "id": "82837ec4",
   "metadata": {},
   "outputs": [
    {
     "name": "stdout",
     "output_type": "stream",
     "text": [
      "[3 5]\n",
      "[4 5 6 7]\n",
      "[0 1 2 3 4 5 6]\n"
     ]
    }
   ],
   "source": [
    "range1 = np.arange(3, 7, step=2) \n",
    "print(range1)\n",
    "print(np.arange(4, 8)) #4...7\n",
    "print(np.arange(7))#0...6"
   ]
  },
  {
   "cell_type": "code",
   "execution_count": 46,
   "id": "f38d90a8",
   "metadata": {},
   "outputs": [
    {
     "name": "stdout",
     "output_type": "stream",
     "text": [
      "[2.  2.1 2.2 2.3 2.4 2.5 2.6 2.7 2.8 2.9 3.  3.1 3.2 3.3 3.4 3.5 3.6 3.7\n",
      " 3.8 3.9 4.  4.1 4.2 4.3 4.4 4.5 4.6 4.7 4.8 4.9 5. ]\n"
     ]
    }
   ],
   "source": [
    "print(np.arange(2., 5.1, 0.1))"
   ]
  },
  {
   "cell_type": "markdown",
   "id": "0bf31233",
   "metadata": {},
   "source": [
    "6. linspace fn: Return evenly spaced numbers over a specified interval.\n",
    "\n",
    "Returns num evenly spaced samples, calculated over the interval [start, stop].\n",
    "\n",
    "The endpoint of the interval can optionally be excluded."
   ]
  },
  {
   "cell_type": "code",
   "execution_count": 49,
   "id": "cf2bbb5e",
   "metadata": {},
   "outputs": [
    {
     "name": "stdout",
     "output_type": "stream",
     "text": [
      "[2.         2.10204082 2.20408163 2.30612245 2.40816327 2.51020408\n",
      " 2.6122449  2.71428571 2.81632653 2.91836735 3.02040816 3.12244898\n",
      " 3.2244898  3.32653061 3.42857143 3.53061224 3.63265306 3.73469388\n",
      " 3.83673469 3.93877551 4.04081633 4.14285714 4.24489796 4.34693878\n",
      " 4.44897959 4.55102041 4.65306122 4.75510204 4.85714286 4.95918367\n",
      " 5.06122449 5.16326531 5.26530612 5.36734694 5.46938776 5.57142857\n",
      " 5.67346939 5.7755102  5.87755102 5.97959184 6.08163265 6.18367347\n",
      " 6.28571429 6.3877551  6.48979592 6.59183673 6.69387755 6.79591837\n",
      " 6.89795918 7.        ]\n",
      "[2.  4.5 7. ]\n"
     ]
    }
   ],
   "source": [
    "evenlySpaced = np.linspace(2., 7.)\n",
    "print(evenlySpaced)\n",
    "print(np.linspace(2., 7., num=3))"
   ]
  }
 ],
 "metadata": {
  "kernelspec": {
   "display_name": "Python 3 (ipykernel)",
   "language": "python",
   "name": "python3"
  },
  "language_info": {
   "codemirror_mode": {
    "name": "ipython",
    "version": 3
   },
   "file_extension": ".py",
   "mimetype": "text/x-python",
   "name": "python",
   "nbconvert_exporter": "python",
   "pygments_lexer": "ipython3",
   "version": "3.10.4"
  },
  "vscode": {
   "interpreter": {
    "hash": "c8b5588678fbcb50590756c92c8a8b998a22a866f2bc96d9c8f7753f66f11cc6"
   }
  }
 },
 "nbformat": 4,
 "nbformat_minor": 5
}
