{
 "cells": [
  {
   "cell_type": "markdown",
   "id": "badb0929",
   "metadata": {},
   "source": [
    "BASIC NUMPY:\n",
    "---------------------\n",
    "(This is a recreation following this: https://sebastianraschka.com/blog/2020/numpy-intro.html)"
   ]
  },
  {
   "cell_type": "code",
   "execution_count": 2,
   "id": "1156c4c9",
   "metadata": {},
   "outputs": [],
   "source": [
    "import numpy as np"
   ]
  },
  {
   "cell_type": "code",
   "execution_count": 4,
   "id": "6b0d545d",
   "metadata": {},
   "outputs": [
    {
     "name": "stdout",
     "output_type": "stream",
     "text": [
      "[0 1 2 3 4 5]\n"
     ]
    }
   ],
   "source": [
    "print(np.arange(6))"
   ]
  },
  {
   "cell_type": "code",
   "execution_count": 3,
   "id": "492b374b",
   "metadata": {},
   "outputs": [],
   "source": [
    "def python_dot(x, w):\n",
    "    z = 0.\n",
    "    for i in range(len(x)):\n",
    "        z+= x[i]*w[i]\n",
    "    return z"
   ]
  },
  {
   "cell_type": "code",
   "execution_count": 6,
   "id": "d30c864d",
   "metadata": {},
   "outputs": [],
   "source": [
    "array1 = [1., 2., 5.]\n",
    "array2 = [3., 1., 2.]"
   ]
  },
  {
   "cell_type": "code",
   "execution_count": 7,
   "id": "262b8e3d",
   "metadata": {},
   "outputs": [
    {
     "name": "stdout",
     "output_type": "stream",
     "text": [
      "15.0\n"
     ]
    }
   ],
   "source": [
    "print(python_dot(array1, array2))"
   ]
  },
  {
   "cell_type": "markdown",
   "id": "d3d9b38d",
   "metadata": {},
   "source": [
    "Now, let us time a large array:"
   ]
  },
  {
   "cell_type": "code",
   "execution_count": 8,
   "id": "7586c3e4",
   "metadata": {},
   "outputs": [],
   "source": [
    "large1 = list(range(1000))\n",
    "large2 = list(range(1000))"
   ]
  },
  {
   "cell_type": "code",
   "execution_count": 9,
   "id": "b49c3e76",
   "metadata": {},
   "outputs": [
    {
     "name": "stdout",
     "output_type": "stream",
     "text": [
      "59.5 µs ± 1.6 µs per loop (mean ± std. dev. of 7 runs, 10,000 loops each)\n"
     ]
    }
   ],
   "source": [
    "%timeit python_dot(large1, large2)"
   ]
  },
  {
   "cell_type": "markdown",
   "id": "dc918072",
   "metadata": {},
   "source": [
    "* Now, if we use np arrays:*"
   ]
  },
  {
   "cell_type": "code",
   "execution_count": 4,
   "id": "f5b3a3fb",
   "metadata": {},
   "outputs": [],
   "source": [
    "nplarge1 = np.arange(1000)\n",
    "nplarge2 = np.arange(1000)"
   ]
  },
  {
   "cell_type": "code",
   "execution_count": 5,
   "id": "55911ab0",
   "metadata": {},
   "outputs": [
    {
     "name": "stdout",
     "output_type": "stream",
     "text": [
      "1.36 µs ± 45.6 ns per loop (mean ± std. dev. of 7 runs, 1,000,000 loops each)\n"
     ]
    }
   ],
   "source": [
    "%timeit nplarge1.dot(nplarge2)"
   ]
  },
  {
   "cell_type": "markdown",
   "id": "929b0443",
   "metadata": {},
   "source": [
    "We observe 59.5-->1.36. nparrays are like C arrays, contiguous and homogenous, Helps in cache locality"
   ]
  },
  {
   "cell_type": "markdown",
   "id": "318fc197",
   "metadata": {},
   "source": [
    "________________________________________________________________________________________________________"
   ]
  },
  {
   "cell_type": "markdown",
   "id": "9b3dd3c6",
   "metadata": {},
   "source": [
    "Now, lets look at multidimensional arrays:"
   ]
  },
  {
   "cell_type": "code",
   "execution_count": 6,
   "id": "1339cdd2",
   "metadata": {},
   "outputs": [],
   "source": [
    "pyarray = [1., 2., 3.]"
   ]
  },
  {
   "cell_type": "code",
   "execution_count": 7,
   "id": "ceb0d218",
   "metadata": {},
   "outputs": [],
   "source": [
    "numpyarray = np.array(pyarray)"
   ]
  },
  {
   "cell_type": "code",
   "execution_count": 8,
   "id": "1006e0c4",
   "metadata": {},
   "outputs": [
    {
     "name": "stdout",
     "output_type": "stream",
     "text": [
      "<class 'numpy.ndarray'>\n"
     ]
    }
   ],
   "source": [
    "print(type(numpyarray))"
   ]
  },
  {
   "cell_type": "code",
   "execution_count": 9,
   "id": "7085962a",
   "metadata": {},
   "outputs": [
    {
     "name": "stdout",
     "output_type": "stream",
     "text": [
      "[1. 2. 3.]\n"
     ]
    }
   ],
   "source": [
    "print(numpyarray)"
   ]
  },
  {
   "cell_type": "code",
   "execution_count": 15,
   "id": "5bcfe3cb",
   "metadata": {},
   "outputs": [],
   "source": [
    "pyListOList = [ [1,2,3],\n",
    "                [4,5,6]]"
   ]
  },
  {
   "cell_type": "code",
   "execution_count": 16,
   "id": "ef44754f",
   "metadata": {},
   "outputs": [],
   "source": [
    "mat = np.array(pyListOList)"
   ]
  },
  {
   "cell_type": "code",
   "execution_count": 17,
   "id": "577b4102",
   "metadata": {},
   "outputs": [],
   "source": [
    "mat = np.array(pyListOList, dtype=int)"
   ]
  },
  {
   "cell_type": "code",
   "execution_count": 18,
   "id": "3f66bba3",
   "metadata": {},
   "outputs": [
    {
     "data": {
      "text/plain": [
       "numpy.ndarray"
      ]
     },
     "execution_count": 18,
     "metadata": {},
     "output_type": "execute_result"
    }
   ],
   "source": [
    "type(mat)"
   ]
  },
  {
   "cell_type": "code",
   "execution_count": 19,
   "id": "62b9c660",
   "metadata": {},
   "outputs": [
    {
     "name": "stdout",
     "output_type": "stream",
     "text": [
      "int64\n"
     ]
    }
   ],
   "source": [
    "print(mat.dtype)"
   ]
  },
  {
   "cell_type": "code",
   "execution_count": 21,
   "id": "faab2608",
   "metadata": {},
   "outputs": [
    {
     "name": "stdout",
     "output_type": "stream",
     "text": [
      "int32\n"
     ]
    },
    {
     "data": {
      "text/plain": [
       "numpy.ndarray"
      ]
     },
     "execution_count": 21,
     "metadata": {},
     "output_type": "execute_result"
    }
   ],
   "source": [
    "mat_int32 = mat.astype(np.int32)\n",
    "print(mat_int32.dtype)\n",
    "type(mat_int32)"
   ]
  },
  {
   "cell_type": "markdown",
   "id": "936ebd40",
   "metadata": {},
   "source": [
    "Like above, we can convert dtype"
   ]
  },
  {
   "cell_type": "markdown",
   "id": "30803098",
   "metadata": {},
   "source": [
    "In Python, all variables are like references in C++. So, if you want just the value.."
   ]
  },
  {
   "cell_type": "code",
   "execution_count": 24,
   "id": "48be2126",
   "metadata": {},
   "outputs": [
    {
     "name": "stdout",
     "output_type": "stream",
     "text": [
      "[[3 2 3]\n",
      " [4 5 6]]\n",
      "[[5 2 3]\n",
      " [4 5 6]]\n",
      "[[5 2 3]\n",
      " [4 5 6]]\n"
     ]
    }
   ],
   "source": [
    "print(mat)\n",
    "mat2 = mat\n",
    "mat2[0][0] = 5\n",
    "print(mat)\n",
    "mat_copy = mat.copy()\n",
    "mat_copy[0][0] = 4\n",
    "print(mat)"
   ]
  },
  {
   "cell_type": "markdown",
   "id": "807bed84",
   "metadata": {},
   "source": [
    "We have to use ndarry.copy()"
   ]
  },
  {
   "cell_type": "markdown",
   "id": "03cb586c",
   "metadata": {},
   "source": [
    "nparrays have ndim attribute:"
   ]
  },
  {
   "cell_type": "code",
   "execution_count": 25,
   "id": "d1489039",
   "metadata": {},
   "outputs": [
    {
     "data": {
      "text/plain": [
       "2"
      ]
     },
     "execution_count": 25,
     "metadata": {},
     "output_type": "execute_result"
    }
   ],
   "source": [
    "mat.ndim"
   ]
  },
  {
   "cell_type": "markdown",
   "id": "379bef24",
   "metadata": {},
   "source": [
    "The Shape Attribute: returns nxm as (n, m) {returns a tuple(in case of ndim, so tuple)}"
   ]
  },
  {
   "cell_type": "code",
   "execution_count": 26,
   "id": "3c4de2eb",
   "metadata": {},
   "outputs": [
    {
     "name": "stdout",
     "output_type": "stream",
     "text": [
      "(2, 3)\n"
     ]
    }
   ],
   "source": [
    "print(mat.shape)"
   ]
  },
  {
   "cell_type": "code",
   "execution_count": 27,
   "id": "5e635525",
   "metadata": {},
   "outputs": [
    {
     "name": "stdout",
     "output_type": "stream",
     "text": [
      "2\n"
     ]
    }
   ],
   "source": [
    "print(len(mat.shape))"
   ]
  },
  {
   "cell_type": "code",
   "execution_count": 30,
   "id": "d948a0de",
   "metadata": {},
   "outputs": [],
   "source": [
    "assert(len(mat.shape)==mat.ndim)"
   ]
  },
  {
   "cell_type": "markdown",
   "id": "d52d0bfd",
   "metadata": {},
   "source": [
    "So, mat.ndim = the length of the shape tuple\n",
    "_________________________________________________________________________________\n"
   ]
  },
  {
   "cell_type": "markdown",
   "id": "e4613004",
   "metadata": {},
   "source": [
    "NUMPY ARRAY CONSTRUCTION:\n",
    "-------------------------\n",
    "Lets look at some array construction routines"
   ]
  }
 ],
 "metadata": {
  "kernelspec": {
   "display_name": "Python 3.10.4 ('nplearning')",
   "language": "python",
   "name": "python3"
  },
  "language_info": {
   "codemirror_mode": {
    "name": "ipython",
    "version": 3
   },
   "file_extension": ".py",
   "mimetype": "text/x-python",
   "name": "python",
   "nbconvert_exporter": "python",
   "pygments_lexer": "ipython3",
   "version": "3.10.4"
  },
  "vscode": {
   "interpreter": {
    "hash": "c8b5588678fbcb50590756c92c8a8b998a22a866f2bc96d9c8f7753f66f11cc6"
   }
  }
 },
 "nbformat": 4,
 "nbformat_minor": 5
}
